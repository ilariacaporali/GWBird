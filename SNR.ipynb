{
 "cells": [
  {
   "cell_type": "code",
   "execution_count": 3,
   "metadata": {},
   "outputs": [],
   "source": [
    "import numpy as np\n",
    "import matplotlib.pyplot as plt\n",
    "import matplotlib.cm as cm\n",
    "import matplotlib\n",
    "from matplotlib.ticker import FormatStrFormatter\n",
    "import matplotlib.gridspec as gridspec\n",
    "\n",
    "\n",
    "from nest import detectors\n",
    "from nest import pls\n",
    "from nest import overlap \n",
    "from nest import nell \n",
    "from nest import skymap\n",
    "\n",
    "from nest.skymap import Skymaps\n",
    "from nest.overlap import Response\n",
    "from nest.nell import AngularResponse\n",
    "\n",
    "%config InlineBackend.figure_format = 'retina'\n",
    "\n",
    "from astropy.cosmology import Planck15\n",
    "cosmo = Planck15\n",
    "H0 =  cosmo.H0.to('1/s').value\n",
    "\n",
    "c = 299792458 #m/s\n",
    "\n",
    "plt.rcParams['figure.dpi'] = 300\n",
    "plt.rcParams['font.size'] = 20\n",
    "plt.rcParams['axes.labelsize'] = 20\n",
    "plt.rcParams['axes.titlesize'] = 20\n",
    "plt.rcParams['xtick.labelsize'] = 20\n",
    "plt.rcParams['ytick.labelsize'] = 20\n",
    "plt.rcParams['legend.fontsize'] = 20\n",
    "plt.rcParams['lines.linewidth'] = 3\n",
    "plt.rcParams['font.family'] = 'serif'"
   ]
  },
  {
   "cell_type": "code",
   "execution_count": 4,
   "metadata": {},
   "outputs": [],
   "source": [
    "# SNR \n",
    "\n",
    "def power_law_noise(f, f_pivot_noise, N_pivot, r, n_noise):\n",
    "    '''\n",
    "    Power-law correlated noise (i.e. Newtonian noise from seismic body waves)\n",
    "    '''\n",
    "    return N_pivot * r * (f/f_pivot_noise)**n_noise\n",
    "\n",
    "\n",
    "def N_aet(f, N_auto_f, f_pivot_noise, N_pivot, r, n_noise):\n",
    "    '''\n",
    "    Noise in the diagonal basis, general for triangular-shaped detectors \n",
    "    '''\n",
    "    N_cross_f = power_law_noise(f, f_pivot_noise, N_pivot, r, n_noise)\n",
    "    N_aet = np.zeros((3, len(f)))\n",
    "    N_aet[0] = N_auto_f -   N_cross_f\n",
    "    N_aet[1] = N_auto_f -   N_cross_f\n",
    "    N_aet[2] = N_auto_f + 2*N_cross_f\n",
    "    return N_aet\n",
    "\n",
    "\n",
    "def SNR(Tobs, f):\n",
    "    f_full, PSD_full = detectors.detector_Pn('ET A')\n",
    "    PSD = np.interp(f,f_full, PSD_full)\n",
    "    gamma = Response.overlap('ET A', 'ET A', f, 0, 't')  - Response.overlap('ET A', 'ET B', f, 0, 't') \n",
    "    signal = 1e-12*(f/25)**(2/3)\n",
    "    integrand = signal**2 * gamma**2 / (PSD**2 * f**6)\n",
    "    return np.sqrt(4 * Tobs * np.trapz(integrand, f) * (3*H0**2/10*np.pi**2)**2)"
   ]
  },
  {
   "cell_type": "code",
   "execution_count": 5,
   "metadata": {},
   "outputs": [],
   "source": [
    "Tobs = 24*60*60*365\n",
    "f = np.logspace(0, np.log10(200), 1000)\n",
    "\n",
    "snr = SNR(Tobs, f)\n"
   ]
  },
  {
   "cell_type": "code",
   "execution_count": 6,
   "metadata": {},
   "outputs": [
    {
     "name": "stdout",
     "output_type": "stream",
     "text": [
      "(175.29796073919056+7.063790736648401e-19j)\n",
      "(0.005704572921346224-2.2987095336661262e-23j)\n",
      "(0.07552862319244423-1.5217472770615037e-22j)\n"
     ]
    }
   ],
   "source": [
    "print(snr)\n",
    "print(1/snr)\n",
    "\n",
    "print(1/np.sqrt(snr))"
   ]
  }
 ],
 "metadata": {
  "kernelspec": {
   "display_name": "dethenv",
   "language": "python",
   "name": "python3"
  },
  "language_info": {
   "codemirror_mode": {
    "name": "ipython",
    "version": 3
   },
   "file_extension": ".py",
   "mimetype": "text/x-python",
   "name": "python",
   "nbconvert_exporter": "python",
   "pygments_lexer": "ipython3",
   "version": "3.12.2"
  }
 },
 "nbformat": 4,
 "nbformat_minor": 2
}
